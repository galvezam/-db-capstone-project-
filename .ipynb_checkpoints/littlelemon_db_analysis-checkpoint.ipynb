{
 "cells": [
  {
   "cell_type": "code",
   "execution_count": 1,
   "id": "2d1ee5a7-1dbc-4db1-8b51-cdb906644fc3",
   "metadata": {},
   "outputs": [],
   "source": [
    "# importing api to connect to mysql\n",
    "import mysql.connector as connector"
   ]
  },
  {
   "cell_type": "code",
   "execution_count": 2,
   "id": "c1dc0d2e-7022-4c85-9855-419a0a088318",
   "metadata": {},
   "outputs": [
    {
     "name": "stdout",
     "output_type": "stream",
     "text": [
      "Connection successful!\n"
     ]
    }
   ],
   "source": [
    "# verifying connection...\n",
    "connection = connector.connect(user = \"exampleuser\", password = \"Matt0038\", db = \"little_lemon_db\")\n",
    "\n",
    "if connection.is_connected():\n",
    "    print(\"Connection successful!\")\n",
    "else:\n",
    "    print(\"Connection failed.\")"
   ]
  },
  {
   "cell_type": "code",
   "execution_count": 3,
   "id": "9b9cf1ef-afb1-4cdb-a791-6f6c2dfce522",
   "metadata": {},
   "outputs": [
    {
     "name": "stdout",
     "output_type": "stream",
     "text": [
      "Tables in the database:\n",
      "Bookings\n",
      "Customers\n",
      "Employees\n",
      "MenuItems\n",
      "Menus\n",
      "Orders\n",
      "ordersview\n"
     ]
    },
    {
     "data": {
      "text/plain": [
       "True"
      ]
     },
     "execution_count": 3,
     "metadata": {},
     "output_type": "execute_result"
    }
   ],
   "source": [
    "# get cursor\n",
    "cursor = connection.cursor()\n",
    "\n",
    "# show all tables\n",
    "show_tables_query = \"SHOW TABLES\"\n",
    "cursor.execute(show_tables_query)\n",
    "\n",
    "# get results\n",
    "tables = cursor.fetchall()\n",
    "\n",
    "# results\n",
    "print(\"Tables in the database:\")\n",
    "for table in tables:\n",
    "    print(table[0])\n",
    "\n",
    "# Close the cursor\n",
    "cursor.close()\n"
   ]
  },
  {
   "cell_type": "code",
   "execution_count": 4,
   "id": "e510a949-fd3b-4645-8b64-f0bdf774cb1d",
   "metadata": {},
   "outputs": [
    {
     "name": "stdout",
     "output_type": "stream",
     "text": [
      "Customers who placed orders greater than $60:\n"
     ]
    }
   ],
   "source": [
    "cursor = connection.cursor()\n",
    "\n",
    "# get required details\n",
    "query = \"\"\"\n",
    "SELECT Customers.Name, Customers.Contact_Number, Customers.Email, Orders.BillAmount\n",
    "FROM Customers\n",
    "JOIN Orders ON Customers.CustomersID = Orders.CustomersID\n",
    "WHERE Orders.BillAmount > 60\n",
    "\"\"\"\n",
    "\n",
    "cursor.execute(query)\n",
    "\n",
    "# get results\n",
    "results = cursor.fetchall()\n",
    "\n",
    "# print results\n",
    "print(\"Customers who placed orders greater than $60:\")\n",
    "for row in results:\n",
    "    print(f\"Name: {row[0]}, Contact Details: {row[1]} {row[2]}, Total Cost: {row[3]}\")\n",
    "\n",
    "# closer cursor and connection\n",
    "cursor.close()\n",
    "connection.close()"
   ]
  }
 ],
 "metadata": {
  "kernelspec": {
   "display_name": "Python 3 (ipykernel)",
   "language": "python",
   "name": "python3"
  },
  "language_info": {
   "codemirror_mode": {
    "name": "ipython",
    "version": 3
   },
   "file_extension": ".py",
   "mimetype": "text/x-python",
   "name": "python",
   "nbconvert_exporter": "python",
   "pygments_lexer": "ipython3",
   "version": "3.12.3"
  }
 },
 "nbformat": 4,
 "nbformat_minor": 5
}
